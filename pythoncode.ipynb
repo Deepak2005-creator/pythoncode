{
  "nbformat": 4,
  "nbformat_minor": 0,
  "metadata": {
    "colab": {
      "provenance": [],
      "authorship_tag": "ABX9TyONrgPHh8eP27aHtQyr+0Do",
      "include_colab_link": true
    },
    "kernelspec": {
      "name": "python3",
      "display_name": "Python 3"
    },
    "language_info": {
      "name": "python"
    }
  },
  "cells": [
    {
      "cell_type": "markdown",
      "metadata": {
        "id": "view-in-github",
        "colab_type": "text"
      },
      "source": [
        "<a href=\"https://colab.research.google.com/github/Deepak2005-creator/pythoncode/blob/main/pythoncode.ipynb\" target=\"_parent\"><img src=\"https://colab.research.google.com/assets/colab-badge.svg\" alt=\"Open In Colab\"/></a>"
      ]
    },
    {
      "cell_type": "code",
      "execution_count": null,
      "metadata": {
        "colab": {
          "base_uri": "https://localhost:8080/"
        },
        "collapsed": true,
        "id": "0XQ1WD8C-a7O",
        "outputId": "34a54395-fe4b-423c-d9e9-8e99a309446b"
      },
      "outputs": [
        {
          "output_type": "stream",
          "name": "stdout",
          "text": [
            "Enter 1st value10\n",
            "Enter 2nd value50\n",
            "Enter 3rd value20\n",
            "$72.0\n"
          ]
        }
      ],
      "source": [
        "a=int(input(\"Enter 1st value\"))\n",
        "b=int(input(\"Enter 2nd value\"))\n",
        "c=int(input(\"Enter 3rd value\"))\n",
        "if(a+b+c>50):\n",
        "  print(f\"${(a+b+c)-(a+b+c)/10}\")\n",
        "else:\n",
        "  print(f\"${a+b+c}\")"
      ]
    }
  ]
}